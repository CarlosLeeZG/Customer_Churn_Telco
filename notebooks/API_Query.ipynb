{
 "cells": [
  {
   "cell_type": "code",
   "execution_count": 1,
   "metadata": {},
   "outputs": [],
   "source": [
    "import requests\n",
    "from IPython.display import display\n",
    "from ipywidgets import widgets\n",
    "\n",
    "\n",
    "website = 'http://localhost:5000'"
   ]
  },
  {
   "cell_type": "code",
   "execution_count": 2,
   "metadata": {},
   "outputs": [
    {
     "data": {
      "application/vnd.jupyter.widget-view+json": {
       "model_id": "8cf91340e5d44779a7f7a13775136bdd",
       "version_major": 2,
       "version_minor": 0
      },
      "text/plain": [
       "Dropdown(description='Number of Dependencies', options=('Nil', '1', '2 or more'), style=DescriptionStyle(descr…"
      ]
     },
     "metadata": {},
     "output_type": "display_data"
    },
    {
     "data": {
      "application/vnd.jupyter.widget-view+json": {
       "model_id": "1eaa2e17cc4441658352c4f676caab60",
       "version_major": 2,
       "version_minor": 0
      },
      "text/plain": [
       "Text(value='', description='Zipcode:', style=TextStyle(description_width='initial'))"
      ]
     },
     "metadata": {},
     "output_type": "display_data"
    },
    {
     "data": {
      "application/vnd.jupyter.widget-view+json": {
       "model_id": "4e30a2d3e0e04465820f0c7ad36c044a",
       "version_major": 2,
       "version_minor": 0
      },
      "text/plain": [
       "Dropdown(description='Number of Referrals', options=('Nil', '1-3', '4 or more'), style=DescriptionStyle(descri…"
      ]
     },
     "metadata": {},
     "output_type": "display_data"
    },
    {
     "data": {
      "application/vnd.jupyter.widget-view+json": {
       "model_id": "0c7c1df2ed8d4f999f4e179c9717dc1d",
       "version_major": 2,
       "version_minor": 0
      },
      "text/plain": [
       "Dropdown(description='Contract Type', options=('Month-to-Month', 'One Year', 'Two Year'), style=DescriptionSty…"
      ]
     },
     "metadata": {},
     "output_type": "display_data"
    },
    {
     "data": {
      "application/vnd.jupyter.widget-view+json": {
       "model_id": "3507acdb8a1f47de80c656b60f258d20",
       "version_major": 2,
       "version_minor": 0
      },
      "text/plain": [
       "BoundedIntText(value=1, description='Number of Months with Telco', style=DescriptionStyle(description_width='i…"
      ]
     },
     "metadata": {},
     "output_type": "display_data"
    },
    {
     "data": {
      "application/vnd.jupyter.widget-view+json": {
       "model_id": "6ff461426e464972881041745904febe",
       "version_major": 2,
       "version_minor": 0
      },
      "text/plain": [
       "Dropdown(description='Payment Method', options=('Credit Card', 'Bank Withdrawal', 'Mailed Check'), style=Descr…"
      ]
     },
     "metadata": {},
     "output_type": "display_data"
    },
    {
     "data": {
      "application/vnd.jupyter.widget-view+json": {
       "model_id": "69dabf534b0d4c7c9e24e3c3b50650ec",
       "version_major": 2,
       "version_minor": 0
      },
      "text/plain": [
       "FloatText(value=0.0, description='Monthly Fee Incurred', style=DescriptionStyle(description_width='initial'))"
      ]
     },
     "metadata": {},
     "output_type": "display_data"
    },
    {
     "data": {
      "application/vnd.jupyter.widget-view+json": {
       "model_id": "30c7cb08bfb64edbbb45ee3086e96a97",
       "version_major": 2,
       "version_minor": 0
      },
      "text/plain": [
       "FloatText(value=0.0, description='Average Monthly Long Distance Data Fee', style=DescriptionStyle(description_…"
      ]
     },
     "metadata": {},
     "output_type": "display_data"
    },
    {
     "data": {
      "application/vnd.jupyter.widget-view+json": {
       "model_id": "d11f4b4f15e94b43b380c394590fad96",
       "version_major": 2,
       "version_minor": 0
      },
      "text/plain": [
       "FloatText(value=0.0, description='Total Charges Last Quarter', style=DescriptionStyle(description_width='initi…"
      ]
     },
     "metadata": {},
     "output_type": "display_data"
    },
    {
     "data": {
      "application/vnd.jupyter.widget-view+json": {
       "model_id": "e8777862fd994d45a6a2788dae39c784",
       "version_major": 2,
       "version_minor": 0
      },
      "text/plain": [
       "FloatText(value=0.0, description='Average Monthly Download (in GB)', style=DescriptionStyle(description_width=…"
      ]
     },
     "metadata": {},
     "output_type": "display_data"
    }
   ],
   "source": [
    "dependencies_dropdown = widgets.Dropdown(\n",
    "    options = ['Nil', \"1\", \"2 or more\"],\n",
    "    value = 'Nil',\n",
    "    description = 'Number of Dependencies',\n",
    "    disabled = False,\n",
    "    style={'description_width': 'initial'})\n",
    "\n",
    "zip_text = widgets.Text(value=\"\", description='Zipcode:', disabled=False, style={'description_width': 'initial'})\n",
    "\n",
    "referral_dropdown = widgets.Dropdown(\n",
    "    options = ['Nil', \"1-3\", \"4 or more\"],\n",
    "    value = 'Nil',\n",
    "    description = 'Number of Referrals',\n",
    "    disabled = False,\n",
    "    style={'description_width': 'initial'})\n",
    "\n",
    "contract_dropdown = widgets.Dropdown(\n",
    "    options = ['Month-to-Month', \"One Year\", \"Two Year\"],\n",
    "    value = 'Month-to-Month',\n",
    "    description = 'Contract Type',\n",
    "    disabled = False,\n",
    "    style={'description_width': 'initial'})\n",
    "\n",
    "tenure_mth_inttext = widgets.BoundedIntText(\n",
    "    value=1,\n",
    "    min=0,\n",
    "    max=100,\n",
    "    step=1,\n",
    "    description='Number of Months with Telco',\n",
    "    style={'description_width': 'initial'})\n",
    "\n",
    "payment_dropdown = widgets.Dropdown(\n",
    "    options = ['Credit Card', \"Bank Withdrawal\", \"Mailed Check\"],\n",
    "    value = 'Credit Card',\n",
    "    description = 'Payment Method',\n",
    "    disabled = False,\n",
    "    style={'description_width': 'initial'})\n",
    "\n",
    "mthlyfee_fltext = widgets.FloatText(\n",
    "    value=0,\n",
    "    description='Monthly Fee Incurred',\n",
    "    disabled=False,\n",
    "    style={'description_width': 'initial'})\n",
    "\n",
    "longdist_fltext = widgets.FloatText(\n",
    "    value=0,\n",
    "    description='Average Monthly Long Distance Data Fee',\n",
    "    disabled=False,\n",
    "    style={'description_width': 'initial'})\n",
    "\n",
    "longdist_fltext = widgets.FloatText(\n",
    "    value=0,\n",
    "    description='Average Monthly Long Distance Data Fee',\n",
    "    disabled=False,\n",
    "    style={'description_width': 'initial'})\n",
    "\n",
    "chargesQ_fltext = widgets.FloatText(\n",
    "    value=0,\n",
    "    description='Total Charges Last Quarter',\n",
    "    disabled=False,\n",
    "    style={'description_width': 'initial'})\n",
    "\n",
    "gb_fltext = widgets.FloatText(\n",
    "    value=0,\n",
    "    description='Average Monthly Download (in GB)',\n",
    "    disabled=False,\n",
    "    style={'description_width': 'initial'})\n",
    "\n",
    "display(dependencies_dropdown)\n",
    "display(zip_text)\n",
    "display(referral_dropdown)\n",
    "display(contract_dropdown)\n",
    "display(tenure_mth_inttext)\n",
    "display(payment_dropdown)\n",
    "display(mthlyfee_fltext)\n",
    "display(longdist_fltext)\n",
    "display(chargesQ_fltext)\n",
    "display(gb_fltext)"
   ]
  },
  {
   "cell_type": "code",
   "execution_count": 3,
   "metadata": {},
   "outputs": [
    {
     "data": {
      "text/plain": [
       "['Nil', '999999', '1-3', 'One Year', 12, 'Credit Card', 12.0, 0.0, 0.0, 15.0]"
      ]
     },
     "metadata": {},
     "output_type": "display_data"
    }
   ],
   "source": [
    "num_dependents = dependencies_dropdown.value\n",
    "zip_code = zip_text.value\n",
    "num_referrals = referral_dropdown.value\n",
    "contract_type = contract_dropdown.value\n",
    "tenure_months = tenure_mth_inttext.value  # Corrected line\n",
    "payment_method = payment_dropdown.value\n",
    "total_monthly_fee = mthlyfee_fltext.value\n",
    "avg_long_distance_fee_monthly = longdist_fltext.value\n",
    "total_charges_quarter = chargesQ_fltext.value\n",
    "avg_gb_download_monthly = gb_fltext.value\n",
    "\n",
    "display([num_dependents, zip_code, num_referrals, contract_type, tenure_months,\n",
    "payment_method, total_monthly_fee, avg_long_distance_fee_monthly, total_charges_quarter, avg_gb_download_monthly])\n"
   ]
  },
  {
   "cell_type": "code",
   "execution_count": null,
   "metadata": {},
   "outputs": [
    {
     "name": "stdout",
     "output_type": "stream",
     "text": [
      "<Response [200]>\n",
      "{\n",
      "  \"prediction\": 0\n",
      "}\n",
      "\n"
     ]
    }
   ],
   "source": [
    "import requests\n",
    "from IPython.display import display\n",
    "from ipywidgets import widgets\n",
    "\n",
    "\n",
    "website = 'http://localhost:5000'\n",
    "url = f'{website}/api/predict'\n",
    "model_inputs = {\n",
    "    'contract_type': contract_type,\n",
    "    'num_dependents': num_dependents,\n",
    "    'num_referrals': num_referrals,\n",
    "    'total_monthly_fee': total_monthly_fee,\n",
    "    'tenure_months': tenure_months,\n",
    "    'avg_long_distance_fee_monthly': avg_long_distance_fee_monthly,\n",
    "    'total_charges_quarter': total_charges_quarter,\n",
    "    'zip_code': zip_code,\n",
    "    'payment_method': payment_method,\n",
    "    'avg_gb_download_monthly': avg_gb_download_monthly\n",
    "}\n",
    "\n",
    "\n",
    "\n",
    "response = requests.post(url, json = model_inputs)\n",
    "print(response) \n",
    "print(response.text)\n"
   ]
  }
 ],
 "metadata": {
  "kernelspec": {
   "display_name": "base",
   "language": "python",
   "name": "python3"
  },
  "language_info": {
   "codemirror_mode": {
    "name": "ipython",
    "version": 3
   },
   "file_extension": ".py",
   "mimetype": "text/x-python",
   "name": "python",
   "nbconvert_exporter": "python",
   "pygments_lexer": "ipython3",
   "version": "3.9.13"
  }
 },
 "nbformat": 4,
 "nbformat_minor": 2
}
